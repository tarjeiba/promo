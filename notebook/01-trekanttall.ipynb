{
 "cells": [
  {
   "cell_type": "markdown",
   "metadata": {
    "collapsed": false
   },
   "source": [
    "# Trekanttall"
   ]
  },
  {
   "cell_type": "markdown",
   "metadata": {
    "collapsed": false
   },
   "source": [
    "Trekanttallene kan visualiseres som på figuren under.\n",
    "\n",
    "\n",
    "\n",
    "\n",
    "Din oppgave blir..."
   ]
  }
 ],
 "metadata": {
  "kernelspec": {
   "argv": [
    "python",
    "-m",
    "ipykernel_launcher",
    "-f",
    "{connection_file}"
   ],
   "display_name": "Python 3",
   "env": null,
   "interrupt_mode": "signal",
   "language": "python",
   "metadata": null,
   "name": "python3"
  },
  "name": "01-trekanttall.ipynb"
 },
 "nbformat": 4,
 "nbformat_minor": 2
}
